{
 "metadata": {
  "language_info": {
   "codemirror_mode": {
    "name": "ipython",
    "version": 3
   },
   "file_extension": ".py",
   "mimetype": "text/x-python",
   "name": "python",
   "nbconvert_exporter": "python",
   "pygments_lexer": "ipython3",
   "version": "3.9.2"
  },
  "orig_nbformat": 2,
  "kernelspec": {
   "name": "python392jvsc74a57bd0dcacb0086e9a4f4eabd41c33bf4faac5ea0a3337ed3f5eff0680afa930572c04",
   "display_name": "Python 3.9.2 64-bit"
  },
  "metadata": {
   "interpreter": {
    "hash": "dcacb0086e9a4f4eabd41c33bf4faac5ea0a3337ed3f5eff0680afa930572c04"
   }
  }
 },
 "nbformat": 4,
 "nbformat_minor": 2,
 "cells": [
  {
   "source": [
    "\"Handling Data\"\n",
    "\"a- reading the data\"\n",
    "import csv\n",
    "import random\n",
    "with open('iris.data.txt', 'r') as csvfile:\n",
    "    lines = csv.reader(csvfile)\n",
    "    for row in lines :\n",
    "        print (', '.join(row))\n",
    "\"b- spliting the data into test/train data\"\n",
    "def loadDataset(filename, split, trainingSet=[] , testSet=[]):\n",
    "  with open(filename, 'r') as csvfile:\n",
    "    lines = csv.reader(csvfile)\n",
    "    dataset = list(lines)\n",
    "    for x in range(len(dataset)-1):\n",
    "      for y in range(4):\n",
    "        dataset[x][y] = float(dataset[x][y])\n",
    "      if random.random() < split:\n",
    "        trainingSet.append(dataset[x])\n",
    "      else:\n",
    "        testSet.append(dataset[x])\n",
    "\"c- testing the spilting function \"\n",
    "trainingSet=[]\n",
    "testSet=[]\n",
    "loadDataset('iris.data.txt', 0.66, trainingSet, testSet)\n",
    "print ('Train: ' + repr(len(trainingSet)))\n",
    "print ('Test: ' + repr(len(testSet)) )"
   ],
   "cell_type": "code",
   "metadata": {},
   "execution_count": 16,
   "outputs": [
    {
     "output_type": "stream",
     "name": "stdout",
     "text": [
      "5.1, 3.5, 1.4, 0.2, Iris-setosa\n4.9, 3.0, 1.4, 0.2, Iris-setosa\n4.7, 3.2, 1.3, 0.2, Iris-setosa\n4.6, 3.1, 1.5, 0.2, Iris-setosa\n5.0, 3.6, 1.4, 0.2, Iris-setosa\n5.4, 3.9, 1.7, 0.4, Iris-setosa\n4.6, 3.4, 1.4, 0.3, Iris-setosa\n5.0, 3.4, 1.5, 0.2, Iris-setosa\n4.4, 2.9, 1.4, 0.2, Iris-setosa\n4.9, 3.1, 1.5, 0.1, Iris-setosa\n5.4, 3.7, 1.5, 0.2, Iris-setosa\n4.8, 3.4, 1.6, 0.2, Iris-setosa\n4.8, 3.0, 1.4, 0.1, Iris-setosa\n4.3, 3.0, 1.1, 0.1, Iris-setosa\n5.8, 4.0, 1.2, 0.2, Iris-setosa\n5.7, 4.4, 1.5, 0.4, Iris-setosa\n5.4, 3.9, 1.3, 0.4, Iris-setosa\n5.1, 3.5, 1.4, 0.3, Iris-setosa\n5.7, 3.8, 1.7, 0.3, Iris-setosa\n5.1, 3.8, 1.5, 0.3, Iris-setosa\n5.4, 3.4, 1.7, 0.2, Iris-setosa\n5.1, 3.7, 1.5, 0.4, Iris-setosa\n4.6, 3.6, 1.0, 0.2, Iris-setosa\n5.1, 3.3, 1.7, 0.5, Iris-setosa\n4.8, 3.4, 1.9, 0.2, Iris-setosa\n5.0, 3.0, 1.6, 0.2, Iris-setosa\n5.0, 3.4, 1.6, 0.4, Iris-setosa\n5.2, 3.5, 1.5, 0.2, Iris-setosa\n5.2, 3.4, 1.4, 0.2, Iris-setosa\n4.7, 3.2, 1.6, 0.2, Iris-setosa\n4.8, 3.1, 1.6, 0.2, Iris-setosa\n5.4, 3.4, 1.5, 0.4, Iris-setosa\n5.2, 4.1, 1.5, 0.1, Iris-setosa\n5.5, 4.2, 1.4, 0.2, Iris-setosa\n4.9, 3.1, 1.5, 0.1, Iris-setosa\n5.0, 3.2, 1.2, 0.2, Iris-setosa\n5.5, 3.5, 1.3, 0.2, Iris-setosa\n4.9, 3.1, 1.5, 0.1, Iris-setosa\n4.4, 3.0, 1.3, 0.2, Iris-setosa\n5.1, 3.4, 1.5, 0.2, Iris-setosa\n5.0, 3.5, 1.3, 0.3, Iris-setosa\n4.5, 2.3, 1.3, 0.3, Iris-setosa\n4.4, 3.2, 1.3, 0.2, Iris-setosa\n5.0, 3.5, 1.6, 0.6, Iris-setosa\n5.1, 3.8, 1.9, 0.4, Iris-setosa\n4.8, 3.0, 1.4, 0.3, Iris-setosa\n5.1, 3.8, 1.6, 0.2, Iris-setosa\n4.6, 3.2, 1.4, 0.2, Iris-setosa\n5.3, 3.7, 1.5, 0.2, Iris-setosa\n5.0, 3.3, 1.4, 0.2, Iris-setosa\n7.0, 3.2, 4.7, 1.4, Iris-versicolor\n6.4, 3.2, 4.5, 1.5, Iris-versicolor\n6.9, 3.1, 4.9, 1.5, Iris-versicolor\n5.5, 2.3, 4.0, 1.3, Iris-versicolor\n6.5, 2.8, 4.6, 1.5, Iris-versicolor\n5.7, 2.8, 4.5, 1.3, Iris-versicolor\n6.3, 3.3, 4.7, 1.6, Iris-versicolor\n4.9, 2.4, 3.3, 1.0, Iris-versicolor\n6.6, 2.9, 4.6, 1.3, Iris-versicolor\n5.2, 2.7, 3.9, 1.4, Iris-versicolor\n5.0, 2.0, 3.5, 1.0, Iris-versicolor\n5.9, 3.0, 4.2, 1.5, Iris-versicolor\n6.0, 2.2, 4.0, 1.0, Iris-versicolor\n6.1, 2.9, 4.7, 1.4, Iris-versicolor\n5.6, 2.9, 3.6, 1.3, Iris-versicolor\n6.7, 3.1, 4.4, 1.4, Iris-versicolor\n5.6, 3.0, 4.5, 1.5, Iris-versicolor\n5.8, 2.7, 4.1, 1.0, Iris-versicolor\n6.2, 2.2, 4.5, 1.5, Iris-versicolor\n5.6, 2.5, 3.9, 1.1, Iris-versicolor\n5.9, 3.2, 4.8, 1.8, Iris-versicolor\n6.1, 2.8, 4.0, 1.3, Iris-versicolor\n6.3, 2.5, 4.9, 1.5, Iris-versicolor\n6.1, 2.8, 4.7, 1.2, Iris-versicolor\n6.4, 2.9, 4.3, 1.3, Iris-versicolor\n6.6, 3.0, 4.4, 1.4, Iris-versicolor\n6.8, 2.8, 4.8, 1.4, Iris-versicolor\n6.7, 3.0, 5.0, 1.7, Iris-versicolor\n6.0, 2.9, 4.5, 1.5, Iris-versicolor\n5.7, 2.6, 3.5, 1.0, Iris-versicolor\n5.5, 2.4, 3.8, 1.1, Iris-versicolor\n5.5, 2.4, 3.7, 1.0, Iris-versicolor\n5.8, 2.7, 3.9, 1.2, Iris-versicolor\n6.0, 2.7, 5.1, 1.6, Iris-versicolor\n5.4, 3.0, 4.5, 1.5, Iris-versicolor\n6.0, 3.4, 4.5, 1.6, Iris-versicolor\n6.7, 3.1, 4.7, 1.5, Iris-versicolor\n6.3, 2.3, 4.4, 1.3, Iris-versicolor\n5.6, 3.0, 4.1, 1.3, Iris-versicolor\n5.5, 2.5, 4.0, 1.3, Iris-versicolor\n5.5, 2.6, 4.4, 1.2, Iris-versicolor\n6.1, 3.0, 4.6, 1.4, Iris-versicolor\n5.8, 2.6, 4.0, 1.2, Iris-versicolor\n5.0, 2.3, 3.3, 1.0, Iris-versicolor\n5.6, 2.7, 4.2, 1.3, Iris-versicolor\n5.7, 3.0, 4.2, 1.2, Iris-versicolor\n5.7, 2.9, 4.2, 1.3, Iris-versicolor\n6.2, 2.9, 4.3, 1.3, Iris-versicolor\n5.1, 2.5, 3.0, 1.1, Iris-versicolor\n5.7, 2.8, 4.1, 1.3, Iris-versicolor\n6.3, 3.3, 6.0, 2.5, Iris-virginica\n5.8, 2.7, 5.1, 1.9, Iris-virginica\n7.1, 3.0, 5.9, 2.1, Iris-virginica\n6.3, 2.9, 5.6, 1.8, Iris-virginica\n6.5, 3.0, 5.8, 2.2, Iris-virginica\n7.6, 3.0, 6.6, 2.1, Iris-virginica\n4.9, 2.5, 4.5, 1.7, Iris-virginica\n7.3, 2.9, 6.3, 1.8, Iris-virginica\n6.7, 2.5, 5.8, 1.8, Iris-virginica\n7.2, 3.6, 6.1, 2.5, Iris-virginica\n6.5, 3.2, 5.1, 2.0, Iris-virginica\n6.4, 2.7, 5.3, 1.9, Iris-virginica\n6.8, 3.0, 5.5, 2.1, Iris-virginica\n5.7, 2.5, 5.0, 2.0, Iris-virginica\n5.8, 2.8, 5.1, 2.4, Iris-virginica\n6.4, 3.2, 5.3, 2.3, Iris-virginica\n6.5, 3.0, 5.5, 1.8, Iris-virginica\n7.7, 3.8, 6.7, 2.2, Iris-virginica\n7.7, 2.6, 6.9, 2.3, Iris-virginica\n6.0, 2.2, 5.0, 1.5, Iris-virginica\n6.9, 3.2, 5.7, 2.3, Iris-virginica\n5.6, 2.8, 4.9, 2.0, Iris-virginica\n7.7, 2.8, 6.7, 2.0, Iris-virginica\n6.3, 2.7, 4.9, 1.8, Iris-virginica\n6.7, 3.3, 5.7, 2.1, Iris-virginica\n7.2, 3.2, 6.0, 1.8, Iris-virginica\n6.2, 2.8, 4.8, 1.8, Iris-virginica\n6.1, 3.0, 4.9, 1.8, Iris-virginica\n6.4, 2.8, 5.6, 2.1, Iris-virginica\n7.2, 3.0, 5.8, 1.6, Iris-virginica\n7.4, 2.8, 6.1, 1.9, Iris-virginica\n7.9, 3.8, 6.4, 2.0, Iris-virginica\n6.4, 2.8, 5.6, 2.2, Iris-virginica\n6.3, 2.8, 5.1, 1.5, Iris-virginica\n6.1, 2.6, 5.6, 1.4, Iris-virginica\n7.7, 3.0, 6.1, 2.3, Iris-virginica\n6.3, 3.4, 5.6, 2.4, Iris-virginica\n6.4, 3.1, 5.5, 1.8, Iris-virginica\n6.0, 3.0, 4.8, 1.8, Iris-virginica\n6.9, 3.1, 5.4, 2.1, Iris-virginica\n6.7, 3.1, 5.6, 2.4, Iris-virginica\n6.9, 3.1, 5.1, 2.3, Iris-virginica\n5.8, 2.7, 5.1, 1.9, Iris-virginica\n6.8, 3.2, 5.9, 2.3, Iris-virginica\n6.7, 3.3, 5.7, 2.5, Iris-virginica\n6.7, 3.0, 5.2, 2.3, Iris-virginica\n6.3, 2.5, 5.0, 1.9, Iris-virginica\n6.5, 3.0, 5.2, 2.0, Iris-virginica\n6.2, 3.4, 5.4, 2.3, Iris-virginica\n5.9, 3.0, 5.1, 1.8, Iris-virginica\nTrain: 101\nTest: 48\n"
     ]
    }
   ]
  },
  {
   "cell_type": "code",
   "execution_count": 26,
   "metadata": {},
   "outputs": [
    {
     "output_type": "stream",
     "name": "stdout",
     "text": [
      "Distance: 3.4641016151377544\n"
     ]
    }
   ],
   "source": [
    "\"Finding the simialrity measure\"\n",
    "import math\n",
    "def euclideanDistance(instance1, instance2, length):\n",
    "  distance = 0\n",
    "  for i in range(length):\n",
    "    distance += pow((instance1[i] - instance2[i]), 2)\n",
    "  return math.sqrt(distance)\n",
    "  \n",
    "data1 = [2, 2, 2, 'a']\n",
    "data2 = [4, 4, 4, 'b']\n",
    "distance = euclideanDistance(data1, data2, 3)\n",
    "print ('Distance: ' + repr(distance))"
   ]
  },
  {
   "cell_type": "code",
   "execution_count": 29,
   "metadata": {},
   "outputs": [
    {
     "output_type": "stream",
     "name": "stdout",
     "text": [
      "[[4, 4, 4, 'b']]\n"
     ]
    }
   ],
   "source": [
    "\"Neighbors\"\n",
    "import operator\n",
    "def getNeighbors(trainingSet, testInstance, k):\n",
    "    distances = []\n",
    "    length = len(testInstance)-1\n",
    "    for x in range(len(trainingSet)):\n",
    "        dist = euclideanDistance(testInstance, trainingSet[x], length)\n",
    "        distances.append((trainingSet[x], dist))\n",
    "    distances.sort(key=operator.itemgetter(1))\n",
    "    neighbors = []\n",
    "    for x in range(k):\n",
    "        neighbors.append(distances[x][0])\n",
    "    return neighbors\n",
    "\n",
    "trainSet = [[2, 2, 2, 'a'], [4, 4, 4, 'b']]\n",
    "testInstance = [5, 5, 5]\n",
    "k = 1\n",
    "neighbors = getNeighbors(trainSet, testInstance, 1)\n",
    "print(neighbors)"
   ]
  },
  {
   "cell_type": "code",
   "execution_count": 30,
   "metadata": {},
   "outputs": [
    {
     "output_type": "stream",
     "name": "stdout",
     "text": [
      "a\n"
     ]
    }
   ],
   "source": [
    "def getResponse(neighbors):\n",
    "    classVotes = {}\n",
    "    for x in range(len(neighbors)):\n",
    "        response = neighbors[x][ -1 ]\n",
    "        if response in classVotes:\n",
    "            classVotes[response] += 1\n",
    "        else:\n",
    "            classVotes[response] = 1\n",
    "\n",
    "    sortedVotes = sorted(classVotes.items(), key=operator.itemgetter(1), reverse=True)\n",
    "    return sortedVotes[0][0]\n",
    "    \n",
    "neighbors = [[1,1,1,'a'], [2,2,2,'a'], [3,3,3,'b']]\n",
    "\n",
    "response = getResponse(neighbors)\n",
    "\n",
    "print(response)"
   ]
  },
  {
   "cell_type": "code",
   "execution_count": 31,
   "metadata": {},
   "outputs": [
    {
     "output_type": "stream",
     "name": "stdout",
     "text": [
      "66.66666666666666\n"
     ]
    }
   ],
   "source": [
    "\"Accuracy\"\n",
    "def getAccuracy(testSet, predictions):\n",
    "    correct = 0\n",
    "    for x in range(len(testSet)):\n",
    "        if testSet[x][-1] == predictions[x]:\n",
    "            correct += 1\n",
    "    return (correct/float(len(testSet))) * 100.0\n",
    "\n",
    "testSet = [[1,1,1,'a'], [2,2,2,'a'], [3,3,3,'b']]\n",
    "predictions = ['a', 'a', 'a']\n",
    "accuracy = getAccuracy(testSet, predictions)\n",
    "print(accuracy)"
   ]
  },
  {
   "cell_type": "code",
   "execution_count": 33,
   "metadata": {},
   "outputs": [
    {
     "output_type": "stream",
     "name": "stdout",
     "text": [
      "Train: 104\nTest: 45\nAccuracy: 97.77777777777777%\n"
     ]
    }
   ],
   "source": [
    "\n",
    "def main():\n",
    "  trainingSet=[]\n",
    "  testSet=[]\n",
    "  loadDataset('iris.data.txt', 0.67, trainingSet, testSet)\n",
    "  print ('Train: ' + repr(len(trainingSet)))\n",
    "  print ('Test: ' + repr(len(testSet)))\n",
    "  k = 3\n",
    "  predictions = []\n",
    "  for i in range(len(testSet)):\n",
    "    neighbors = getNeighbors(trainingSet, testSet[i], k)\n",
    "    result = getResponse(neighbors)\n",
    "    predictions.append(result)\n",
    "  accuracy = getAccuracy(testSet, predictions)\n",
    "  print('Accuracy: ' + repr(accuracy) + '%')\n",
    "main()"
   ]
  },
  {
   "cell_type": "code",
   "execution_count": 41,
   "metadata": {},
   "outputs": [
    {
     "output_type": "stream",
     "name": "stdout",
     "text": [
      "Distance: 6\n"
     ]
    }
   ],
   "source": [
    "\"Another distance metric\"\n",
    "import math\n",
    "def manhattanDistance(instance1, instance2, length):\n",
    "  distance = 0\n",
    "  for i in range(length):\n",
    "    distance += abs(instance1[i] - instance2[i])\n",
    "  return distance\n",
    "  \n",
    "data1 = [2, 2, 2, 'a']\n",
    "data2 = [4, 4, 4, 'b']\n",
    "distance = manhattanDistance(data1, data2, 3)\n",
    "print ('Distance: ' + repr(distance))"
   ]
  },
  {
   "cell_type": "code",
   "execution_count": 46,
   "metadata": {},
   "outputs": [],
   "source": [
    "def getNeighborsWithManhattan(trainingSet, testInstance, k):\n",
    "    distances = []\n",
    "    length = len(testInstance)-1\n",
    "    for x in range(len(trainingSet)):\n",
    "        dist = manhattanDistance(testInstance, trainingSet[x], length)\n",
    "        distances.append((trainingSet[x], dist))\n",
    "    distances.sort(key=operator.itemgetter(1))\n",
    "    neighbors = []\n",
    "    for x in range(k):\n",
    "        neighbors.append(distances[x][0])\n",
    "    return neighbors\n"
   ]
  },
  {
   "cell_type": "code",
   "execution_count": 49,
   "metadata": {},
   "outputs": [],
   "source": [
    "def main2():\n",
    "    trainingSet=[]\n",
    "    testSet=[]\n",
    "    split = 0.66\n",
    "    loadDataset(\"iris.data.txt\", split, trainingSet, testSet)\n",
    "    print ('Train set: ' + repr(len(trainingSet)))\n",
    "    print ('Test set: ' + repr(len(testSet)))    \n",
    "    predictions=[]\n",
    "    k = 3\n",
    "    for x in range(len(testSet)):\n",
    "        neighbors = getNeighborsWithManhattan(trainingSet, testSet[x], k)\n",
    "        result = getResponse(neighbors)\n",
    "        predictions.append(result)\n",
    "    accuracy = getAccuracy(testSet, predictions)\n",
    "    print ('Accuracy: ', accuracy)"
   ]
  },
  {
   "cell_type": "code",
   "execution_count": 50,
   "metadata": {},
   "outputs": [
    {
     "output_type": "stream",
     "name": "stdout",
     "text": [
      "Train set: 102\nTest set: 47\nAccuracy:  93.61702127659575\n"
     ]
    }
   ],
   "source": [
    "main2()\n"
   ]
  },
  {
   "cell_type": "code",
   "execution_count": null,
   "metadata": {},
   "outputs": [],
   "source": []
  }
 ]
}